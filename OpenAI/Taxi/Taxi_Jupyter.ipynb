{
 "cells": [
  {
   "cell_type": "markdown",
   "metadata": {},
   "source": [
    "# Setting the Environment"
   ]
  },
  {
   "cell_type": "code",
   "execution_count": 1,
   "metadata": {},
   "outputs": [
    {
     "name": "stdout",
     "output_type": "stream",
     "text": [
      "+---------+\n",
      "|\u001b[34;1mR\u001b[0m: | : :\u001b[35mG\u001b[0m|\n",
      "| : : : : |\n",
      "|\u001b[43m \u001b[0m: : : : |\n",
      "| | : | : |\n",
      "|Y| : |B: |\n",
      "+---------+\n",
      "\n",
      "Action Space Discrete(6)\n",
      "State Space Discrete(500)\n",
      "State: 328\n",
      "+---------+\n",
      "|\u001b[35mR\u001b[0m: | : :G|\n",
      "| : : : : |\n",
      "| : : : : |\n",
      "| |\u001b[43m \u001b[0m: | : |\n",
      "|\u001b[34;1mY\u001b[0m| : |B: |\n",
      "+---------+\n",
      "\n"
     ]
    },
    {
     "data": {
      "text/plain": [
       "{0: [(1.0, 428, -1, False)],\n",
       " 1: [(1.0, 228, -1, False)],\n",
       " 2: [(1.0, 348, -1, False)],\n",
       " 3: [(1.0, 328, -1, False)],\n",
       " 4: [(1.0, 328, -10, False)],\n",
       " 5: [(1.0, 328, -10, False)]}"
      ]
     },
     "execution_count": 1,
     "metadata": {},
     "output_type": "execute_result"
    }
   ],
   "source": [
    "import gym\n",
    "\n",
    "env = gym.make('Taxi-v2').env\n",
    "\n",
    "#Reset the Environment to random state\n",
    "env.reset()\n",
    "env.render()\n",
    "\n",
    "#Action space = 6 possible Actions\n",
    "#south\n",
    "#north\n",
    "#east\n",
    "#west\n",
    "#pickup\n",
    "#dropoff\n",
    "print(\"Action Space {}\".format(env.action_space))\n",
    "\n",
    "#State space = 500 States\n",
    "# 4 pickup locations, 5x5 grid, 1additional passenger (x5)\n",
    "print(\"State Space {}\".format(env.observation_space))\n",
    "\n",
    "\n",
    "# =============================================================================\n",
    "# #Encode a state\n",
    "# =============================================================================\n",
    "state = env.encode(3, 1, 2, 0) # (taxi row, taxi column, passenger index, destination index)\n",
    "print(\"State:\", state)\n",
    "\n",
    "env.s = state\n",
    "env.render()\n",
    "\n",
    "# =============================================================================\n",
    "# reward Table\n",
    "# =============================================================================\n",
    "#{action: [(probability, nextstate, reward, done)]}\n",
    "# 0-5 corresponds to the actions (south, north, east, west, pickup, dropoff) \n",
    "# Probability is always 1.0\n",
    "# nextstate is state of action at this index of the dict\n",
    "# movements have a -1 reward \n",
    "# pickup/dropoff have -10, at right location +20 reward\n",
    "env.P[328]"
   ]
  },
  {
   "cell_type": "markdown",
   "metadata": {},
   "source": [
    "# Simulation with random actions (no RL)"
   ]
  },
  {
   "cell_type": "code",
   "execution_count": 5,
   "metadata": {},
   "outputs": [
    {
     "name": "stdout",
     "output_type": "stream",
     "text": [
      "+---------+\n",
      "|\u001b[35m\u001b[34;1m\u001b[43mR\u001b[0m\u001b[0m\u001b[0m: | : :G|\n",
      "| : : : : |\n",
      "| : : : : |\n",
      "| | : | : |\n",
      "|Y| : |B: |\n",
      "+---------+\n",
      "  (Dropoff)\n",
      "\n",
      "Timestep: 3909\n",
      "State: 0\n",
      "Action: 5\n",
      "Reward: 20\n"
     ]
    }
   ],
   "source": [
    "env.s = 328  # set environment to illustration's state\n",
    "\n",
    "epochs = 0\n",
    "penalties, reward = 0, 0\n",
    "\n",
    "frames = [] # for animation\n",
    "\n",
    "done = False\n",
    "\n",
    "while not done:\n",
    "    action = env.action_space.sample()\n",
    "    state, reward, done, info = env.step(action)\n",
    "\n",
    "    if reward == -10:\n",
    "        penalties += 1\n",
    "    \n",
    "    # Put each rendered frame into dict for animation\n",
    "    frames.append({\n",
    "        'frame': env.render(mode='ansi'),\n",
    "        'state': state,\n",
    "        'action': action,\n",
    "        'reward': reward\n",
    "        }\n",
    "    )\n",
    "\n",
    "    epochs += 1\n",
    "    \n",
    "    \n",
    "print(\"Timesteps taken: {}\".format(epochs))\n",
    "print(\"Penalties incurred: {}\".format(penalties))\n",
    "\n",
    "#Simulating epochs to pick up passenger at Y and get to R\n",
    "from IPython.display import clear_output\n",
    "from time import sleep\n",
    "\n",
    "def print_frames(frames):\n",
    "    for i, frame in enumerate(frames):\n",
    "        clear_output(wait=True)\n",
    "        print(frame['frame'].getvalue())\n",
    "        print(f\"Timestep: {i + 1}\")\n",
    "        print(f\"State: {frame['state']}\")\n",
    "        print(f\"Action: {frame['action']}\")\n",
    "        print(f\"Reward: {frame['reward']}\")\n",
    "        sleep(.1)\n",
    "        \n",
    "print_frames(frames)"
   ]
  },
  {
   "cell_type": "markdown",
   "metadata": {},
   "source": [
    "# Implementing Q-learning"
   ]
  },
  {
   "cell_type": "code",
   "execution_count": 6,
   "metadata": {},
   "outputs": [
    {
     "name": "stdout",
     "output_type": "stream",
     "text": [
      "Episode: 100000\n",
      "Training finished.\n",
      "\n",
      "State: 328\n",
      "+---------+\n",
      "|\u001b[35mR\u001b[0m: | : :G|\n",
      "| : : : : |\n",
      "| : : : : |\n",
      "| |\u001b[43m \u001b[0m: | : |\n",
      "|\u001b[34;1mY\u001b[0m| : |B: |\n",
      "+---------+\n",
      "  (Dropoff)\n"
     ]
    },
    {
     "data": {
      "text/plain": [
       "array([ -2.40687079,  -2.27325184,  -2.40201994,  -2.35723226,\n",
       "       -10.5133314 , -10.85586375])"
      ]
     },
     "execution_count": 6,
     "metadata": {},
     "output_type": "execute_result"
    }
   ],
   "source": [
    "#Initializing the Q-table to a 500x6 Matrix of 0\n",
    "import numpy as np\n",
    "q_table = np.zeros([env.observation_space.n, env.action_space.n])\n",
    "\n",
    "#print(q_table)\n",
    "\n",
    "\n",
    "# Training the agent\n",
    "import random\n",
    "from IPython.display import clear_output\n",
    "\n",
    "# Hyperparameters\n",
    "alpha = 0.1\n",
    "gamma = 0.6\n",
    "epsilon = 0.1\n",
    "\n",
    "# Plotting metrics\n",
    "all_epochs = []\n",
    "all_penalties = []\n",
    "\n",
    "for i in range(1, 100001):\n",
    "    state = env.reset()\n",
    "    \n",
    "    # Setting initial values\n",
    "    epochs, penalties, reward, = 0,0,0\n",
    "    done = False\n",
    "    \n",
    "    # Decide wether to pick a random action or exploit the\n",
    "    # already computed Q-values (comparing to epsilon)\n",
    "    while not done:\n",
    "        if random.uniform(0,1) < epsilon:\n",
    "            # Explore the action space (Number between 1 and 6)\n",
    "            action = env.action_space.sample()\n",
    "        else:\n",
    "            # Exploit learned values (Maximum in Q_table\n",
    "            # of current state)\n",
    "            action = np.argmax(q_table[state]) \n",
    "        \n",
    "        #Execute the chosen action to obtain next state and reward\n",
    "        next_state, reward, done, info = env.step(action)\n",
    "        \n",
    "        # Update the Q Value to the new Q Value (of next state)\n",
    "        old_value = q_table[state, action]\n",
    "        next_max = np.max(q_table[next_state])\n",
    "        \n",
    "        # Q-learning equation:\n",
    "        # (1-alpha) * Q(state, action) + alpha(reward_t+1 + gamma * maxQ(state_t+1, action))\n",
    "        new_value = (1-alpha) * old_value + alpha * (reward + gamma * next_max)\n",
    "        q_table[state, action]= new_value\n",
    "        \n",
    "        # Update Penalties and epochs\n",
    "        if reward == -10:\n",
    "            penalties +=1\n",
    "        \n",
    "        state = next_state\n",
    "        epochs +=1\n",
    "    \n",
    "    # Clear output after 100 epochs\n",
    "    if i%100 ==0:\n",
    "        clear_output(wait=True)\n",
    "        print(f\"Episode: {i}\")\n",
    "\n",
    "print(\"Training finished.\\n\")\n",
    "\n",
    "\n",
    "# Q value at the illustrations state\n",
    "state = env.encode(3, 1, 2, 0) # (taxi row, taxi column, passenger index, destination index)\n",
    "print(\"State:\", state)\n",
    "env.s = state\n",
    "env.render()\n",
    "env.P[328]\n",
    "#Action space = 6 possible Actions\n",
    "#south\n",
    "#north\n",
    "#east\n",
    "#west\n",
    "#pickup\n",
    "#dropoff\n",
    "q_table[328]"
   ]
  },
  {
   "cell_type": "markdown",
   "metadata": {},
   "source": [
    "# Evaluating the Agents performance after training"
   ]
  },
  {
   "cell_type": "code",
   "execution_count": 7,
   "metadata": {},
   "outputs": [
    {
     "name": "stdout",
     "output_type": "stream",
     "text": [
      "Results after 100 episodes:\n",
      "Average timesteps per episode: 12.82\n",
      "Average penalties per episode: 0.0\n",
      "Total Reward: 2000\n"
     ]
    }
   ],
   "source": [
    "#Reset epochs and penalties\n",
    "total_epochs, total_penalties, total_reward = 0,0,0\n",
    "episodes = 100\n",
    "\n",
    "for _ in range(episodes):\n",
    "    # Reset\n",
    "    state= env.reset()\n",
    "    epochs, penalties, reward= 0,0,0\n",
    "\n",
    "    done = False\n",
    "    \n",
    "    while not done:\n",
    "        # Take action according to Q Table\n",
    "        action = np.argmax(q_table[state])\n",
    "        # Execute the chosen action to obtain next state and reward\n",
    "        state, reward, done, info = env.step(action)\n",
    "\n",
    "        # Update Penalties and epochs\n",
    "        if reward == -10:\n",
    "            penalties += 1\n",
    "        \n",
    "        epochs +=1\n",
    "\n",
    "    total_penalties += penalties\n",
    "    total_epochs += epochs\n",
    "    total_reward += reward\n",
    "\n",
    "print(f\"Results after {episodes} episodes:\")\n",
    "print(f\"Average timesteps per episode: {total_epochs / episodes}\")\n",
    "print(f\"Average penalties per episode: {total_penalties / episodes}\")\n",
    "print(f\"Total Reward: {total_reward}\")"
   ]
  }
 ],
 "metadata": {
  "kernelspec": {
   "display_name": "Python 3",
   "language": "python",
   "name": "python3"
  },
  "language_info": {
   "codemirror_mode": {
    "name": "ipython",
    "version": 3
   },
   "file_extension": ".py",
   "mimetype": "text/x-python",
   "name": "python",
   "nbconvert_exporter": "python",
   "pygments_lexer": "ipython3",
   "version": "3.6.8"
  }
 },
 "nbformat": 4,
 "nbformat_minor": 2
}
